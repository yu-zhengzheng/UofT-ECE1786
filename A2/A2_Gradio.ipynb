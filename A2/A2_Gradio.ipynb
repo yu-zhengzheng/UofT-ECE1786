{
 "cells": [
  {
   "cell_type": "code",
   "execution_count": 2,
   "id": "444e06e7accc058c",
   "metadata": {
    "scrolled": false,
    "ExecuteTime": {
     "end_time": "2023-10-08T21:58:20.065129200Z",
     "start_time": "2023-10-08T21:58:19.410830100Z"
    }
   },
   "outputs": [
    {
     "name": "stdout",
     "output_type": "stream",
     "text": [
      "Running on local URL:  http://127.0.0.1:7861\n",
      "\n",
      "To create a public link, set `share=True` in `launch()`.\n"
     ]
    },
    {
     "data": {
      "text/plain": "<IPython.core.display.HTML object>",
      "text/html": "<div><iframe src=\"http://127.0.0.1:7861/\" width=\"100%\" height=\"500\" allow=\"autoplay; camera; microphone; clipboard-read; clipboard-write;\" frameborder=\"0\" allowfullscreen></iframe></div>"
     },
     "metadata": {},
     "output_type": "display_data"
    },
    {
     "data": {
      "text/plain": ""
     },
     "execution_count": 2,
     "metadata": {},
     "output_type": "execute_result"
    }
   ],
   "source": [
    "import gradio as gr\n",
    "import torch\n",
    "import torchtext\n",
    "\n",
    "class MLPClassifier(torch.nn.Module):\n",
    "    def __init__(self, word_vec, embedding_size):\n",
    "        super().__init__()\n",
    "        self.embed=torch.nn.Embedding.from_pretrained(word_vec)\n",
    "        self.fc1 = torch.nn.Linear(embedding_size, 1)\n",
    "        self.apply(self._init_weights)\n",
    "\n",
    "    def _init_weights(self, module):\n",
    "        torch.manual_seed(26)\n",
    "        if isinstance(module, torch.nn.Linear):\n",
    "            module.weight.data.normal_(0, 0.3)\n",
    "            #print(module.weight)\n",
    "            if module.bias is not None:\n",
    "                module.bias.data.zero_()\n",
    "\n",
    "    def forward(self, input):\n",
    "        squash=torch.nn.Sigmoid()\n",
    "        pred= self.embed(input)\n",
    "        pred= torch.mean(pred, dim=0)\n",
    "        pred= squash(self.fc1(pred))\n",
    "        return pred\n",
    "\n",
    "class CNNClassifier(torch.nn.Module):\n",
    "    def __init__(self, word_vec,embedding_size,k1,n1,k2,n2):\n",
    "        super().__init__()\n",
    "        self.embed=torch.nn.Embedding.from_pretrained(word_vec,freeze=False)\n",
    "        self.conv1=torch.nn.Conv2d(1, n1, (k1,embedding_size),bias=False)\n",
    "        self.conv2=torch.nn.Conv2d(1, n2, (k2,embedding_size),bias=False)\n",
    "        self.maxpool1=torch.nn.AdaptiveMaxPool1d(1)\n",
    "        self.maxpool2=torch.nn.AdaptiveMaxPool1d(1)\n",
    "        self.fc1 = torch.nn.Linear(n1+n2, 1)\n",
    "        self.apply(self._init_weights)\n",
    "\n",
    "    def _init_weights(self, module):\n",
    "        torch.manual_seed(26)\n",
    "        if isinstance(module, torch.nn.Linear):\n",
    "            module.weight.data.normal_(0, 0.3)\n",
    "            #print(module.weight)\n",
    "            if module.bias is not None:\n",
    "                module.bias.data.zero_()\n",
    "\n",
    "    def forward(self, input):\n",
    "        #B=batch size S=sentence length E=embedding size \n",
    "        #input=[S,B,E]\n",
    "        squash=torch.nn.ReLU()\n",
    "        binary=torch.nn.Sigmoid()\n",
    "        pred= self.embed(input.swapaxes(0,1))#swap sentence length and batch size axis [B,S,E]\n",
    "        pred=pred.unsqueeze(1)#[B,1,S,E]\n",
    "\n",
    "        pred1= squash(self.conv1(pred))#[B,n1,S,1]\n",
    "        pred1=torch.squeeze(pred1,3)#[B,n1,S]\n",
    "        pred1=self.maxpool1(pred1)#[B,n1,1]\n",
    "\n",
    "        pred2= squash(self.conv2(pred))#[B,n2,S,1]\n",
    "        pred2=torch.squeeze(pred2,3)#[B,n2,S]\n",
    "        pred2=self.maxpool2(pred2)#[B,n2,1]\n",
    "\n",
    "        pred=torch.squeeze(torch.cat((pred1,pred2),1),2)#[B,n1+n2]\n",
    "        pred= binary(self.fc1(pred))\n",
    "        return pred\n",
    "\n",
    "glove = torchtext.vocab.GloVe(name=\"6B\", dim=100)\n",
    "\n",
    "checkpoint = torch.load('baseline.pt')\n",
    "mlp=MLPClassifier(glove.vectors,100)\n",
    "mlp.load_state_dict(checkpoint)\n",
    "checkpoint = torch.load('cnn.pt')\n",
    "cnn=CNNClassifier(glove.vectors,100,3,230,4,230)\n",
    "cnn.load_state_dict(checkpoint)\n",
    "\n",
    "def greet(Sentence):\n",
    "    tokens = Sentence.split()\n",
    "    token_ints = [glove.stoi.get(tok, len(glove.stoi)-1) for tok in tokens]\n",
    "    token_tensor = torch.LongTensor(token_ints).view(-1,1)\n",
    "    print(token_tensor)\n",
    "    pred=mlp(token_tensor)\n",
    "    probmlp=round(pred.item()*10000)/100\n",
    "    pred=cnn(token_tensor)\n",
    "    probcnn=round(pred.item()*10000)/100\n",
    "    \n",
    "    return \"This sentence is predicted to be \"+str(probmlp)+\"% subjective by the MLP Classifier!\\nThis sentence is predicted to be \"+str(probcnn)+\"% subjective by the CNN Classifier!\"\n",
    "    \n",
    "demo = gr.Interface(fn=greet, inputs=\"text\", outputs=\"text\")\n",
    "demo.launch()"
   ]
  },
  {
   "cell_type": "code",
   "execution_count": null,
   "id": "a928e4cef21529e3",
   "metadata": {},
   "outputs": [],
   "source": []
  }
 ],
 "metadata": {
  "kernelspec": {
   "display_name": "Python 3 (ipykernel)",
   "language": "python",
   "name": "python3"
  },
  "language_info": {
   "codemirror_mode": {
    "name": "ipython",
    "version": 3
   },
   "file_extension": ".py",
   "mimetype": "text/x-python",
   "name": "python",
   "nbconvert_exporter": "python",
   "pygments_lexer": "ipython3",
   "version": "3.11.4"
  }
 },
 "nbformat": 4,
 "nbformat_minor": 5
}
